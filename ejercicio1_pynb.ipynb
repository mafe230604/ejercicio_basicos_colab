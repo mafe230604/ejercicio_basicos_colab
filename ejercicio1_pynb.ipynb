{
  "nbformat": 4,
  "nbformat_minor": 0,
  "metadata": {
    "colab": {
      "provenance": [],
      "toc_visible": true,
      "authorship_tag": "ABX9TyNkFiZBep0X2gI8SB3SLSoT",
      "include_colab_link": true
    },
    "kernelspec": {
      "name": "python3",
      "display_name": "Python 3"
    },
    "language_info": {
      "name": "python"
    }
  },
  "cells": [
    {
      "cell_type": "markdown",
      "metadata": {
        "id": "view-in-github",
        "colab_type": "text"
      },
      "source": [
        "<a href=\"https://colab.research.google.com/github/mafe230604/ejercicio_basicos_colab/blob/main/ejercicio1_pynb.ipynb\" target=\"_parent\"><img src=\"https://colab.research.google.com/assets/colab-badge.svg\" alt=\"Open In Colab\"/></a>"
      ]
    },
    {
      "cell_type": "code",
      "execution_count": null,
      "metadata": {
        "id": "gkWfegLxWVWZ",
        "colab": {
          "base_uri": "https://localhost:8080/"
        },
        "outputId": "4dff5088-e784-4629-feaa-76dda02d5a80"
      },
      "outputs": [
        {
          "output_type": "stream",
          "name": "stdout",
          "text": [
            "------------------------\n",
            "-----suma de dos enteros-----------\n",
            "----------------------------------\n"
          ]
        }
      ],
      "source": [
        "1 # suma de dos numeros enteros \n",
        "\n",
        "print(\"------------------------\")\n",
        "print(\"-----suma de dos enteros-----------\")\n",
        "print(\"----------------------------------\")\n",
        "\n",
        "# input \n",
        "x = int(input(\"Digite el valor de X:\"))\n",
        "y = int(input(\"Digite el valor de y:\"))\n",
        " \n",
        "# processing\n",
        "z = x + y\n",
        " \n",
        "# output\n",
        "print(\"La suma de \",x,\" + \",y, \" es \", z )"
      ]
    },
    {
      "cell_type": "code",
      "source": [
        "# potencia de un numero \n",
        "print(\"------------------------------\")\n",
        "print(\"---------- potencia---------------\")\n",
        "print(\"------------------------------------\")\n",
        "\n",
        "# input\n",
        "x = int(input(\"Dijite el valor de x : \"))\n",
        "y = int(input(\"Dijite el valor de y :\"))\n",
        "\n",
        "# processing\n",
        "z = x**y\n",
        "\n",
        "# output\n",
        "print(x, \"elevado a la \",y,\"es\",z)"
      ],
      "metadata": {
        "id": "bszjNOoXkT38",
        "outputId": "f9a0fa79-49a8-4528-e988-db1192ac82f8",
        "colab": {
          "base_uri": "https://localhost:8080/"
        }
      },
      "execution_count": 5,
      "outputs": [
        {
          "output_type": "stream",
          "name": "stdout",
          "text": [
            "------------------------------\n",
            "---------- potencia---------------\n",
            "------------------------------------\n",
            "Dijite el valor de x : 2\n",
            "Dijite el valor de y :10\n",
            "2 elevado a la  10 es 1024\n"
          ]
        }
      ]
    },
    {
      "cell_type": "markdown",
      "source": [
        "# Ejercicios basicos python\n",
        "1. suma de dos numeros \n",
        "2. potencia de un numero\n",
        "\n"
      ],
      "metadata": {
        "id": "7Y4ktk8jgj6L"
      }
    }
  ]
}